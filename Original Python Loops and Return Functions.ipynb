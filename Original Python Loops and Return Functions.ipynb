{
 "cells": [
  {
   "cell_type": "code",
   "execution_count": 16,
   "id": "d4e5e0d4",
   "metadata": {},
   "outputs": [
    {
     "ename": "SyntaxError",
     "evalue": "invalid syntax (2515160340.py, line 2)",
     "output_type": "error",
     "traceback": [
      "\u001b[1;36m  Input \u001b[1;32mIn [16]\u001b[1;36m\u001b[0m\n\u001b[1;33m    for x in randomlist\u001b[0m\n\u001b[1;37m                       ^\u001b[0m\n\u001b[1;31mSyntaxError\u001b[0m\u001b[1;31m:\u001b[0m invalid syntax\n"
     ]
    }
   ],
   "source": [
    "seasons = [\"spring\", \"summer\", \"fall\", \"winter\"]\n",
    "periods = [\"early\", \"mid\", \"late\"]\n",
    "for s in seasons:\n",
    "    for p in periods:\n",
    "        print(s, p)\n",
    "else:\n",
    "    print (\"functioning\")"
   ]
  },
  {
   "cell_type": "code",
   "execution_count": 20,
   "id": "2d9ec6a5",
   "metadata": {},
   "outputs": [
    {
     "name": "stdout",
     "output_type": "stream",
     "text": [
      "['happy', 'neutral', 'sad']\n"
     ]
    }
   ],
   "source": [
    "def fun():\n",
    "    sunny = \"happy\"\n",
    "    cloudy = \"neutral\"\n",
    "    rainy = \"sad\"\n",
    "    return [sunny, cloudy, rainy];\n",
    "list = fun()\n",
    "print(list)"
   ]
  },
  {
   "cell_type": "code",
   "execution_count": 27,
   "id": "a6182a82",
   "metadata": {},
   "outputs": [
    {
     "name": "stdout",
     "output_type": "stream",
     "text": [
      "Six times eleven equals 66\n",
      "Ten over two equals 5.0\n",
      "\n",
      "The fact that 6 is equal to 7 is False\n"
     ]
    }
   ],
   "source": [
    "def multiply(x, y):\n",
    "\n",
    "    return x * y\n",
    "\n",
    "def divide(a, b):\n",
    "\n",
    "    return a / b\n",
    "def compare(n):\n",
    "\n",
    "    return bool(n)\n",
    "\n",
    "res = multiply(6, 11)\n",
    "print(\"Six times eleven equals {}\".format(res))\n",
    "\n",
    "res = divide (10, 2)\n",
    "print(\"Ten over two equals {}\".format(res))\n",
    "\n",
    "res = compare(6==7)\n",
    "print(\"\\nThe fact that 6 is equal to 7 is {}\". format(res))"
   ]
  },
  {
   "cell_type": "code",
   "execution_count": null,
   "id": "5ac6a896",
   "metadata": {},
   "outputs": [],
   "source": []
  },
  {
   "cell_type": "code",
   "execution_count": null,
   "id": "6f2e205d",
   "metadata": {},
   "outputs": [],
   "source": []
  }
 ],
 "metadata": {
  "kernelspec": {
   "display_name": "Python 3 (ipykernel)",
   "language": "python",
   "name": "python3"
  },
  "language_info": {
   "codemirror_mode": {
    "name": "ipython",
    "version": 3
   },
   "file_extension": ".py",
   "mimetype": "text/x-python",
   "name": "python",
   "nbconvert_exporter": "python",
   "pygments_lexer": "ipython3",
   "version": "3.9.12"
  }
 },
 "nbformat": 4,
 "nbformat_minor": 5
}
